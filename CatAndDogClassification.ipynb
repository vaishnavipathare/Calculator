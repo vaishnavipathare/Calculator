{
  "nbformat": 4,
  "nbformat_minor": 0,
  "metadata": {
    "colab": {
      "provenance": [],
      "include_colab_link": true
    },
    "kernelspec": {
      "name": "python3",
      "display_name": "Python 3"
    },
    "language_info": {
      "name": "python"
    }
  },
  "cells": [
    {
      "cell_type": "markdown",
      "metadata": {
        "id": "view-in-github",
        "colab_type": "text"
      },
      "source": [
        "<a href=\"https://colab.research.google.com/github/vaishnavipathare/Calculator/blob/main/CatAndDogClassification.ipynb\" target=\"_parent\"><img src=\"https://colab.research.google.com/assets/colab-badge.svg\" alt=\"Open In Colab\"/></a>"
      ]
    },
    {
      "cell_type": "code",
      "execution_count": null,
      "metadata": {
        "id": "SfY93JfW7_DK"
      },
      "outputs": [],
      "source": [
        "import tensorflow as tf\n",
        "from keras.preprocessing.image import ImageDataGenerator"
      ]
    },
    {
      "cell_type": "markdown",
      "source": [
        "\n",
        "Let's break down the parameters used in the `ImageDataGenerator`:\n",
        "\n",
        "1. **rescale=1./255:**\n",
        "   - This parameter scales the pixel values of the images. By dividing each pixel value by 255, it normalizes the values to be in the range [0, 1]. This is a common preprocessing step in deep learning to ensure numerical stability.\n",
        "\n",
        "2. **shear_range=0.2:**\n",
        "   - Shear transformation tilts the image along its axis. This parameter controls the intensity of shear. In this case, it is set to 0.2, meaning that the shear angle can vary up to 0.2 radians.\n",
        "\n",
        "3. **zoom_range=0.2:**\n",
        "   - Zoom transformation randomly zooms into the image. The zoom range parameter sets the range for the zoom. Here, it is set to 0.2, indicating that the image can be zoomed in or out by up to 20%.\n",
        "\n",
        "4. **horizontal_flip=True:**\n",
        "   - Horizontal flip randomly flips the image horizontally. Setting this parameter to `True` enables horizontal flipping, which can provide more variability in the training data. This is useful for tasks where the orientation of the object in the image does not affect its classification.\n",
        "\n",
        "In summary, the `ImageDataGenerator` is configured to perform data augmentation on the input images during the training process. Data augmentation is a technique used to artificially increase the size of the training dataset by applying various transformations to the existing images, helping the model generalize better and become more robust to different variations in the input data."
      ],
      "metadata": {
        "id": "barQjW2FNfMK"
      }
    },
    {
      "cell_type": "code",
      "source": [
        "train_datagen = ImageDataGenerator(rescale=1./255,\n",
        "                                   shear_range=0.2,\n",
        "                                   zoom_range=0.2,\n",
        "                                   horizontal_flip= True)\n",
        "training_set = train_datagen.flow_from_directory('/content/drive/MyDrive/Cat_and_Dog/train',\n",
        "                                                 target_size = (64,64),\n",
        "                                                 batch_size = 32,\n",
        "                                                 class_mode = 'binary')"
      ],
      "metadata": {
        "colab": {
          "base_uri": "https://localhost:8080/"
        },
        "id": "sXe3L-Ml8UgH",
        "outputId": "4411e97c-17a5-4391-a31e-2016b8551314"
      },
      "execution_count": null,
      "outputs": [
        {
          "output_type": "stream",
          "name": "stdout",
          "text": [
            "Found 557 images belonging to 2 classes.\n"
          ]
        }
      ]
    },
    {
      "cell_type": "code",
      "source": [
        "test_datagen = ImageDataGenerator(rescale=1./255,\n",
        "                                   shear_range=0.2,\n",
        "                                   zoom_range=0.2,\n",
        "                                   horizontal_flip= True)\n",
        "test_set = test_datagen.flow_from_directory('/content/drive/MyDrive/Cat_and_Dog/test',\n",
        "                                                 target_size = (64,64),\n",
        "                                                 batch_size = 32,\n",
        "                                                 class_mode = 'binary')"
      ],
      "metadata": {
        "colab": {
          "base_uri": "https://localhost:8080/"
        },
        "id": "6xiVUXWk-GOj",
        "outputId": "7b20f7e5-0184-458a-cf1c-5801d9669ed3"
      },
      "execution_count": null,
      "outputs": [
        {
          "output_type": "stream",
          "name": "stdout",
          "text": [
            "Found 140 images belonging to 2 classes.\n"
          ]
        }
      ]
    },
    {
      "cell_type": "code",
      "source": [
        "cnn = tf.keras.models.Sequential()"
      ],
      "metadata": {
        "id": "BVo3vcLT-e9g"
      },
      "execution_count": null,
      "outputs": []
    },
    {
      "cell_type": "markdown",
      "source": [
        "- `filters`: This specifies the number of filters (also known as kernels) in the convolutional layer. In this case, you have set it to 32, meaning there will be 32 filters in this layer.\n",
        "\n",
        "- `kernel_size`: This parameter defines the size of the convolutional kernel (or filter). You've set it to 3, indicating that each filter will have a 3x3 size.\n",
        "\n",
        "- `activation`: The activation function used in the layer. In this case, it's set to 'relu', which means Rectified Linear Unit (ReLU) activation will be applied after the convolution operation.\n",
        "\n",
        "- `input_shape`: This specifies the input shape for the first layer in your neural network. In this example, you're using an input shape of [64, 64, 3], which implies that your input data is expected to have dimensions of 64x64 pixels and 3 color channels (e.g., for RGB images)."
      ],
      "metadata": {
        "id": "A8OeKw4n_teZ"
      }
    },
    {
      "cell_type": "markdown",
      "source": [
        "# First Layer"
      ],
      "metadata": {
        "id": "cZxG9x_BDaCD"
      }
    },
    {
      "cell_type": "code",
      "source": [
        "cnn.add(tf.keras.layers.Conv2D(filters=32,kernel_size=3,activation='relu',\n",
        "                               input_shape=[64,64,3]))"
      ],
      "metadata": {
        "id": "rI7VlYX8-uGW"
      },
      "execution_count": null,
      "outputs": []
    },
    {
      "cell_type": "markdown",
      "source": [
        "- `pool_size`: This parameter specifies the size of the pooling window. In your code, you've set it to 2, which means that a 2x2 window will be used for pooling. During max-pooling, the maximum value in each 2x2 window of the input will be retained, and the other values will be discarded.\n",
        "\n",
        "- `strides`: This parameter determines the stride of the pooling operation. In your code, it's also set to 2, which means that the pooling window will move 2 units at a time in both the horizontal and vertical directions. This reduces the size of the feature maps, effectively downsampling the data.\n",
        "\n",
        "The MaxPooling2D layer is often used in CNNs to reduce the spatial dimensions of the feature maps produced by convolutional layers, helping to capture important features while reducing computational complexity."
      ],
      "metadata": {
        "id": "kQIrSgXkBGTq"
      }
    },
    {
      "cell_type": "code",
      "source": [
        "# Pooling\n",
        "cnn.add(tf.keras.layers.MaxPool2D(pool_size=2,strides=2))"
      ],
      "metadata": {
        "id": "tgjUk0zfAmT-"
      },
      "execution_count": null,
      "outputs": []
    },
    {
      "cell_type": "markdown",
      "source": [
        "# Second Layer"
      ],
      "metadata": {
        "id": "WDFefJebDUzO"
      }
    },
    {
      "cell_type": "code",
      "source": [
        "\n",
        "cnn.add(tf.keras.layers.Conv2D(filters=32,kernel_size=3,activation='relu',\n",
        "                               input_shape=[64,64,3]))\n",
        "cnn.add(tf.keras.layers.MaxPool2D(pool_size=2, strides=2))"
      ],
      "metadata": {
        "id": "Xtl9xcxHCPxR"
      },
      "execution_count": null,
      "outputs": []
    },
    {
      "cell_type": "markdown",
      "source": [
        "# Flattening"
      ],
      "metadata": {
        "id": "5Y0kuaIfDjwC"
      }
    },
    {
      "cell_type": "code",
      "source": [
        "\n",
        "cnn.add(tf.keras.layers.Flatten())"
      ],
      "metadata": {
        "id": "fuPs7_XGDHyq"
      },
      "execution_count": null,
      "outputs": []
    },
    {
      "cell_type": "markdown",
      "source": [
        "# Full Connection"
      ],
      "metadata": {
        "id": "QaSBe_9kDfx6"
      }
    },
    {
      "cell_type": "code",
      "source": [
        "cnn.add(tf.keras.layers.Dense(units= 128,activation='relu'))"
      ],
      "metadata": {
        "id": "VhG9rQeRDQ8c"
      },
      "execution_count": null,
      "outputs": []
    },
    {
      "cell_type": "markdown",
      "source": [
        "# Output Layer"
      ],
      "metadata": {
        "id": "-F75gBAREEz4"
      }
    },
    {
      "cell_type": "code",
      "source": [
        "cnn.add(tf.keras.layers.Dense(units= 1,activation='sigmoid'))"
      ],
      "metadata": {
        "id": "Uub1UqhsEDOa"
      },
      "execution_count": null,
      "outputs": []
    },
    {
      "cell_type": "code",
      "source": [
        "cnn.summary()"
      ],
      "metadata": {
        "colab": {
          "base_uri": "https://localhost:8080/"
        },
        "id": "9qRkYKQGEX15",
        "outputId": "45e42cd8-ff0e-454b-b85c-8d70ac5102f1"
      },
      "execution_count": null,
      "outputs": [
        {
          "output_type": "stream",
          "name": "stdout",
          "text": [
            "Model: \"sequential\"\n",
            "_________________________________________________________________\n",
            " Layer (type)                Output Shape              Param #   \n",
            "=================================================================\n",
            " conv2d (Conv2D)             (None, 62, 62, 32)        896       \n",
            "                                                                 \n",
            " max_pooling2d (MaxPooling2  (None, 31, 31, 32)        0         \n",
            " D)                                                              \n",
            "                                                                 \n",
            " conv2d_1 (Conv2D)           (None, 29, 29, 32)        9248      \n",
            "                                                                 \n",
            " max_pooling2d_1 (MaxPoolin  (None, 14, 14, 32)        0         \n",
            " g2D)                                                            \n",
            "                                                                 \n",
            " flatten (Flatten)           (None, 6272)              0         \n",
            "                                                                 \n",
            " dense (Dense)               (None, 128)               802944    \n",
            "                                                                 \n",
            " dense_1 (Dense)             (None, 1)                 129       \n",
            "                                                                 \n",
            "=================================================================\n",
            "Total params: 813217 (3.10 MB)\n",
            "Trainable params: 813217 (3.10 MB)\n",
            "Non-trainable params: 0 (0.00 Byte)\n",
            "_________________________________________________________________\n"
          ]
        }
      ]
    },
    {
      "cell_type": "markdown",
      "source": [
        "# Training the CNN"
      ],
      "metadata": {
        "id": "6AcG2xKEEfWP"
      }
    },
    {
      "cell_type": "code",
      "source": [
        "cnn.compile(optimizer='adam',\n",
        "             loss='binary_crossentropy',\n",
        "             metrics=['accuracy'])"
      ],
      "metadata": {
        "id": "u5mjazxEEahs"
      },
      "execution_count": null,
      "outputs": []
    },
    {
      "cell_type": "code",
      "source": [
        "cnn.fit(x = training_set, validation_data = test_set, epochs = 25)"
      ],
      "metadata": {
        "colab": {
          "base_uri": "https://localhost:8080/"
        },
        "id": "KKpUfB7oExFO",
        "outputId": "0f9a0323-e220-4978-996c-a38ba65bfa39"
      },
      "execution_count": null,
      "outputs": [
        {
          "output_type": "stream",
          "name": "stdout",
          "text": [
            "Epoch 1/25\n",
            "18/18 [==============================] - 178s 10s/step - loss: 0.7334 - accuracy: 0.5206 - val_loss: 0.6954 - val_accuracy: 0.5214\n",
            "Epoch 2/25\n",
            "18/18 [==============================] - 11s 603ms/step - loss: 0.6882 - accuracy: 0.5745 - val_loss: 0.6893 - val_accuracy: 0.5643\n",
            "Epoch 3/25\n",
            "18/18 [==============================] - 11s 593ms/step - loss: 0.6714 - accuracy: 0.5799 - val_loss: 0.7174 - val_accuracy: 0.4857\n",
            "Epoch 4/25\n",
            "18/18 [==============================] - 10s 574ms/step - loss: 0.6622 - accuracy: 0.6158 - val_loss: 0.7102 - val_accuracy: 0.5429\n",
            "Epoch 5/25\n",
            "18/18 [==============================] - 10s 553ms/step - loss: 0.6532 - accuracy: 0.6086 - val_loss: 0.6956 - val_accuracy: 0.5714\n",
            "Epoch 6/25\n",
            "18/18 [==============================] - 11s 618ms/step - loss: 0.6249 - accuracy: 0.6625 - val_loss: 0.6980 - val_accuracy: 0.5357\n",
            "Epoch 7/25\n",
            "18/18 [==============================] - 10s 589ms/step - loss: 0.6017 - accuracy: 0.6768 - val_loss: 0.6809 - val_accuracy: 0.6286\n",
            "Epoch 8/25\n",
            "18/18 [==============================] - 10s 544ms/step - loss: 0.5806 - accuracy: 0.6840 - val_loss: 0.6986 - val_accuracy: 0.6000\n",
            "Epoch 9/25\n",
            "18/18 [==============================] - 11s 618ms/step - loss: 0.5523 - accuracy: 0.7181 - val_loss: 0.6972 - val_accuracy: 0.6714\n",
            "Epoch 10/25\n",
            "18/18 [==============================] - 10s 539ms/step - loss: 0.5348 - accuracy: 0.7307 - val_loss: 0.6638 - val_accuracy: 0.6071\n",
            "Epoch 11/25\n",
            "18/18 [==============================] - 10s 538ms/step - loss: 0.5195 - accuracy: 0.7253 - val_loss: 0.7155 - val_accuracy: 0.6643\n",
            "Epoch 12/25\n",
            "18/18 [==============================] - 9s 524ms/step - loss: 0.5172 - accuracy: 0.7289 - val_loss: 0.6592 - val_accuracy: 0.6929\n",
            "Epoch 13/25\n",
            "18/18 [==============================] - 11s 603ms/step - loss: 0.5028 - accuracy: 0.7451 - val_loss: 0.5994 - val_accuracy: 0.6929\n",
            "Epoch 14/25\n",
            "18/18 [==============================] - 10s 544ms/step - loss: 0.4822 - accuracy: 0.7522 - val_loss: 0.6931 - val_accuracy: 0.6500\n",
            "Epoch 15/25\n",
            "18/18 [==============================] - 10s 543ms/step - loss: 0.4741 - accuracy: 0.7630 - val_loss: 0.6629 - val_accuracy: 0.6643\n",
            "Epoch 16/25\n",
            "18/18 [==============================] - 12s 681ms/step - loss: 0.4707 - accuracy: 0.7792 - val_loss: 0.6688 - val_accuracy: 0.6571\n",
            "Epoch 17/25\n",
            "18/18 [==============================] - 11s 602ms/step - loss: 0.4228 - accuracy: 0.8115 - val_loss: 0.6728 - val_accuracy: 0.6214\n",
            "Epoch 18/25\n",
            "18/18 [==============================] - 9s 516ms/step - loss: 0.4605 - accuracy: 0.7738 - val_loss: 0.6779 - val_accuracy: 0.6571\n",
            "Epoch 19/25\n",
            "18/18 [==============================] - 10s 537ms/step - loss: 0.4251 - accuracy: 0.8043 - val_loss: 0.7739 - val_accuracy: 0.6571\n",
            "Epoch 20/25\n",
            "18/18 [==============================] - 9s 505ms/step - loss: 0.4223 - accuracy: 0.7828 - val_loss: 0.6172 - val_accuracy: 0.6714\n",
            "Epoch 21/25\n",
            "18/18 [==============================] - 10s 550ms/step - loss: 0.4020 - accuracy: 0.8025 - val_loss: 0.7050 - val_accuracy: 0.6786\n",
            "Epoch 22/25\n",
            "18/18 [==============================] - 10s 547ms/step - loss: 0.3666 - accuracy: 0.8294 - val_loss: 0.6264 - val_accuracy: 0.7143\n",
            "Epoch 23/25\n",
            "18/18 [==============================] - 9s 475ms/step - loss: 0.3943 - accuracy: 0.8348 - val_loss: 0.5800 - val_accuracy: 0.7286\n",
            "Epoch 24/25\n",
            "18/18 [==============================] - 10s 545ms/step - loss: 0.3391 - accuracy: 0.8510 - val_loss: 0.7675 - val_accuracy: 0.6571\n",
            "Epoch 25/25\n",
            "18/18 [==============================] - 10s 544ms/step - loss: 0.3065 - accuracy: 0.8815 - val_loss: 0.7248 - val_accuracy: 0.6571\n"
          ]
        },
        {
          "output_type": "execute_result",
          "data": {
            "text/plain": [
              "<keras.src.callbacks.History at 0x79a7d0cad360>"
            ]
          },
          "metadata": {},
          "execution_count": 13
        }
      ]
    },
    {
      "cell_type": "code",
      "source": [
        "import numpy as np\n",
        "test_image = tf.keras.utils.load_img('/content/drive/MyDrive/Cat_and_Dog/test/cats/cat_1.jpg',\n",
        "                                     target_size= (64,64))"
      ],
      "metadata": {
        "id": "FMxqS2yDE-2c"
      },
      "execution_count": null,
      "outputs": []
    },
    {
      "cell_type": "code",
      "source": [
        "test_image"
      ],
      "metadata": {
        "colab": {
          "base_uri": "https://localhost:8080/",
          "height": 81
        },
        "id": "lV7xPwptHAiJ",
        "outputId": "dcb40423-72c8-400c-d093-86de5df24903"
      },
      "execution_count": null,
      "outputs": [
        {
          "output_type": "execute_result",
          "data": {
            "text/plain": [
              "<PIL.Image.Image image mode=RGB size=64x64>"
            ],
            "image/png": "[encoded data removed]"
          },
          "metadata": {},
          "execution_count": 15
        }
      ]
    },
    {
      "cell_type": "code",
      "source": [
        "test_image = tf.keras.utils.img_to_array(test_image)"
      ],
      "metadata": {
        "id": "Yrofn2cOHCEd"
      },
      "execution_count": null,
      "outputs": []
    },
    {
      "cell_type": "code",
      "source": [
        "test_image = np.expand_dims(test_image,axis=0)\n",
        "test_image"
      ],
      "metadata": {
        "colab": {
          "base_uri": "https://localhost:8080/"
        },
        "id": "1q8dH8GUHZ5O",
        "outputId": "97fdb9ed-002b-4c48-ac09-0afaf84bd475"
      },
      "execution_count": null,
      "outputs": [
        {
          "output_type": "execute_result",
          "data": {
            "text/plain": [
              "array([[[[ 97., 139., 153.],\n",
              "         [113., 147., 157.],\n",
              "         [124., 147., 163.],\n",
              "         ...,\n",
              "         [ 67., 137., 149.],\n",
              "         [ 67., 135., 146.],\n",
              "         [ 76., 140., 152.]],\n",
              "\n",
              "        [[ 94., 140., 156.],\n",
              "         [ 95., 141., 157.],\n",
              "         [112., 145., 160.],\n",
              "         ...,\n",
              "         [ 42., 122., 133.],\n",
              "         [ 59., 133., 144.],\n",
              "         [ 73., 139., 151.]],\n",
              "\n",
              "        [[ 91., 137., 153.],\n",
              "         [ 93., 139., 155.],\n",
              "         [114., 146., 161.],\n",
              "         ...,\n",
              "         [ 61., 136., 142.],\n",
              "         [ 57., 131., 142.],\n",
              "         [ 65., 135., 145.]],\n",
              "\n",
              "        ...,\n",
              "\n",
              "        [[  2.,   0.,   1.],\n",
              "         [  3.,   1.,   2.],\n",
              "         [  0.,   0.,   0.],\n",
              "         ...,\n",
              "         [ 60.,  41.,  37.],\n",
              "         [ 63.,  46.,  38.],\n",
              "         [ 68.,  44.,  40.]],\n",
              "\n",
              "        [[ 26.,  18.,  15.],\n",
              "         [ 26.,  18.,  15.],\n",
              "         [ 18.,  15.,  10.],\n",
              "         ...,\n",
              "         [ 66.,  47.,  43.],\n",
              "         [ 64.,  40.,  40.],\n",
              "         [ 58.,  40.,  40.]],\n",
              "\n",
              "        [[ 81.,  76.,  70.],\n",
              "         [ 76.,  71.,  65.],\n",
              "         [ 69.,  62.,  56.],\n",
              "         ...,\n",
              "         [ 57.,  43.,  42.],\n",
              "         [ 71.,  50.,  45.],\n",
              "         [ 67.,  52.,  49.]]]], dtype=float32)"
            ]
          },
          "metadata": {},
          "execution_count": 17
        }
      ]
    },
    {
      "cell_type": "code",
      "source": [
        "result = cnn.predict(test_image)\n",
        "result"
      ],
      "metadata": {
        "colab": {
          "base_uri": "https://localhost:8080/"
        },
        "id": "0LVTNLXcHcwb",
        "outputId": "4563ac35-10b8-4166-cc15-15939c8046aa"
      },
      "execution_count": null,
      "outputs": [
        {
          "output_type": "stream",
          "name": "stdout",
          "text": [
            "1/1 [==============================] - 0s 100ms/step\n"
          ]
        },
        {
          "output_type": "execute_result",
          "data": {
            "text/plain": [
              "array([[1.]], dtype=float32)"
            ]
          },
          "metadata": {},
          "execution_count": 18
        }
      ]
    },
    {
      "cell_type": "code",
      "source": [
        "if result[0][0] == 1:\n",
        "  prediction = 'Cat'\n",
        "else:\n",
        "  prediction = 'Dog'\n",
        "\n",
        "print(prediction)"
      ],
      "metadata": {
        "colab": {
          "base_uri": "https://localhost:8080/"
        },
        "id": "rulzLfF3H4oa",
        "outputId": "b55f1543-32b2-4bbb-9ba3-6f4b94efedb7"
      },
      "execution_count": null,
      "outputs": [
        {
          "output_type": "stream",
          "name": "stdout",
          "text": [
            "Cat\n"
          ]
        }
      ]
    },
    {
      "cell_type": "code",
      "source": [],
      "metadata": {
        "id": "e9-gqEosILOu"
      },
      "execution_count": null,
      "outputs": []
    }
  ]
}